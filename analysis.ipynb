{
 "cells": [
  {
   "attachments": {},
   "cell_type": "markdown",
   "metadata": {},
   "source": [
    "Файл «Данные.xls» содержит выборки из одной и той же базы данных о бывших заключенных.  \n",
    "Описание переменных:  \n",
    "- recid – 1, если заключенный – рецидивист, то есть совершил повторное преступление, 0\n",
    "иначе;\n",
    "- age – возраст заключенного в месяцах;\n",
    "- black – 1, если преступник – представитель негроидной расы, 0 иначе;\n",
    "- married – 1, если преступник женат, 0 иначе;\n",
    "- alcohol – 1, если у заключенного проблемы с алкоголем, 0 иначе;\n",
    "- drugs – 1, если у заключенного проблемы с наркотиками, 0 иначе;\n",
    "- felon – 1 если приговор за тяжкое преступление.\n",
    "- educ – количество лет школьного образования\n",
    "- rules – количество нарушений правил в тюрьме\n",
    "\n",
    "В каждом варианте значение переменная recid известно во всех наблюдениях, кроме\n",
    "последних 50. Эти наблюдения оставлены для прогноза (будем считать, что это преступники,\n",
    "еще не совершившие рецидив).  \n",
    "\n",
    "Для выполнения задания выберите следующие переменные:  \n",
    "recid – объясняемая переменная.  \n",
    "age, black, married, felon, educ - регрессоры."
   ]
  },
  {
   "attachments": {},
   "cell_type": "markdown",
   "metadata": {},
   "source": [
    "Выполните следующие пункты задания:\n",
    "1. Оцените три модели, связывающую вероятность повторного преступления с\n",
    "остальными признаками: 1\\) линейную, 2\\) логит, 3\\) пробит.\n",
    "2. Дайте словесное описание полученных результатов на примере логит-модели. Какие\n",
    "из переменных получились значимыми? Выпишите оцененную ковариационную\n",
    "матрицу оценок коэффициентов.\n",
    "3. По каждой модели рассчитайте оцените вероятность повторного преступления для всех\n",
    "наблюдений, включая 50 последних (где неизвестно значение recid). Есть ли заметные\n",
    "различия между прогнозируемыми вероятностями? В каких наблюдениях возникают\n",
    "наибольшие расхождения? Кому из ещё не совершивших рецидива бывших\n",
    "заключенных требуется уделить особое внимание?\n",
    "4. На примере logit модели проверьте значимость модели в целом тестом отношения\n",
    "правдоподобия. Рассчитайте p-значение.\n",
    "5. Этот пункт сделайте для probit модели. Рассмотрим прогнозное правило типа est_low_i = 1,\n",
    "если est_P(low_i = 1) > c, иначе est_low_i = 0, где c - некое пороговое значение для\n",
    "моделируемой вероятности. Чувствительностью называется доля верных прогнозов\n",
    "среди всех наблюдений, где low_i = 1 (способность модели правильно предсказывать\n",
    "«единички»).  \n",
    "Специфичностью называется доля верных прогнозов среди всех наблюдений, где\n",
    "= 0 (способность модели правильно предсказывать «нули»).  \n",
    "Рассчитайте чувствительность и специфичность для разных пороговых значений c от 0 до 1,\n",
    "постройте график зависимости чувствительности и специфичности от c.\n",
    "Требуется, чтобы прогнозная модель имела чувствительность не ниже 70%. Каким\n",
    "должен быть порог c? Какой специфичности можно добиться в этом случае?"
   ]
  },
  {
   "attachments": {},
   "cell_type": "markdown",
   "metadata": {},
   "source": [
    "Импортируем нужные библиотеки"
   ]
  },
  {
   "cell_type": "code",
   "execution_count": 82,
   "metadata": {},
   "outputs": [],
   "source": [
    "import pandas as pd\n",
    "import statsmodels.api as sm\n",
    "import numpy as np\n",
    "from sklearn.metrics import confusion_matrix\n",
    "import matplotlib.pyplot as plt"
   ]
  },
  {
   "attachments": {},
   "cell_type": "markdown",
   "metadata": {},
   "source": [
    "Считаем данные"
   ]
  },
  {
   "cell_type": "code",
   "execution_count": 2,
   "metadata": {},
   "outputs": [
    {
     "data": {
      "text/html": [
       "<div>\n",
       "<style scoped>\n",
       "    .dataframe tbody tr th:only-of-type {\n",
       "        vertical-align: middle;\n",
       "    }\n",
       "\n",
       "    .dataframe tbody tr th {\n",
       "        vertical-align: top;\n",
       "    }\n",
       "\n",
       "    .dataframe thead th {\n",
       "        text-align: right;\n",
       "    }\n",
       "</style>\n",
       "<table border=\"1\" class=\"dataframe\">\n",
       "  <thead>\n",
       "    <tr style=\"text-align: right;\">\n",
       "      <th></th>\n",
       "      <th>recid</th>\n",
       "      <th>black</th>\n",
       "      <th>alcohol</th>\n",
       "      <th>drugs</th>\n",
       "      <th>married</th>\n",
       "      <th>felon</th>\n",
       "      <th>educ</th>\n",
       "      <th>rules</th>\n",
       "      <th>age</th>\n",
       "    </tr>\n",
       "  </thead>\n",
       "  <tbody>\n",
       "    <tr>\n",
       "      <th>0</th>\n",
       "      <td>0.0</td>\n",
       "      <td>0</td>\n",
       "      <td>1</td>\n",
       "      <td>0</td>\n",
       "      <td>1</td>\n",
       "      <td>0</td>\n",
       "      <td>7</td>\n",
       "      <td>2</td>\n",
       "      <td>441</td>\n",
       "    </tr>\n",
       "    <tr>\n",
       "      <th>1</th>\n",
       "      <td>0.0</td>\n",
       "      <td>1</td>\n",
       "      <td>0</td>\n",
       "      <td>0</td>\n",
       "      <td>0</td>\n",
       "      <td>1</td>\n",
       "      <td>12</td>\n",
       "      <td>0</td>\n",
       "      <td>307</td>\n",
       "    </tr>\n",
       "    <tr>\n",
       "      <th>2</th>\n",
       "      <td>1.0</td>\n",
       "      <td>0</td>\n",
       "      <td>0</td>\n",
       "      <td>1</td>\n",
       "      <td>0</td>\n",
       "      <td>1</td>\n",
       "      <td>9</td>\n",
       "      <td>3</td>\n",
       "      <td>253</td>\n",
       "    </tr>\n",
       "    <tr>\n",
       "      <th>3</th>\n",
       "      <td>0.0</td>\n",
       "      <td>0</td>\n",
       "      <td>0</td>\n",
       "      <td>1</td>\n",
       "      <td>0</td>\n",
       "      <td>0</td>\n",
       "      <td>9</td>\n",
       "      <td>0</td>\n",
       "      <td>244</td>\n",
       "    </tr>\n",
       "    <tr>\n",
       "      <th>4</th>\n",
       "      <td>0.0</td>\n",
       "      <td>1</td>\n",
       "      <td>0</td>\n",
       "      <td>0</td>\n",
       "      <td>0</td>\n",
       "      <td>0</td>\n",
       "      <td>12</td>\n",
       "      <td>0</td>\n",
       "      <td>277</td>\n",
       "    </tr>\n",
       "  </tbody>\n",
       "</table>\n",
       "</div>"
      ],
      "text/plain": [
       "   recid  black  alcohol  drugs  married  felon  educ  rules  age\n",
       "0    0.0      0        1      0        1      0     7      2  441\n",
       "1    0.0      1        0      0        0      1    12      0  307\n",
       "2    1.0      0        0      1        0      1     9      3  253\n",
       "3    0.0      0        0      1        0      0     9      0  244\n",
       "4    0.0      1        0      0        0      0    12      0  277"
      ]
     },
     "execution_count": 2,
     "metadata": {},
     "output_type": "execute_result"
    }
   ],
   "source": [
    "df = pd.read_csv(\"data.csv\", delimiter=\";\")\n",
    "df.head()"
   ]
  },
  {
   "attachments": {},
   "cell_type": "markdown",
   "metadata": {},
   "source": [
    "Выделим регрессоров и объясняемую переменную.  \n",
    "Не берем последние 50 наблюдений, т. к. для них не указана объясняемая переменная, а соответственно они не пригодятся для построения модели."
   ]
  },
  {
   "cell_type": "code",
   "execution_count": 5,
   "metadata": {},
   "outputs": [],
   "source": [
    "X = df[[\"age\", \"black\", \"married\", \"felon\", \"educ\"]].head(df.shape[0] - 50)\n",
    "y = df[\"recid\"].head(df.shape[0] - 50)"
   ]
  },
  {
   "attachments": {},
   "cell_type": "markdown",
   "metadata": {},
   "source": [
    "1\\.  \n",
    "Построим линейную регрессионную модель и выведем общую информацию о ней. Нужно также добавить вектор констант (так как матрица X по умолчанию не имеет первого столбца как вектор единиц) для большей точности.  \n",
    "Используем коэффициент детерминации `R^2 = RSS/TSS = 1 - ESS/TSS` для оценки модели. Чем больше `R^2`, тем лучше \"подходит\" модель.  "
   ]
  },
  {
   "cell_type": "code",
   "execution_count": 10,
   "metadata": {},
   "outputs": [
    {
     "name": "stdout",
     "output_type": "stream",
     "text": [
      "                            OLS Regression Results                            \n",
      "==============================================================================\n",
      "Dep. Variable:                  recid   R-squared:                       0.033\n",
      "Model:                            OLS   Adj. R-squared:                  0.028\n",
      "Method:                 Least Squares   F-statistic:                     6.587\n",
      "Date:                Wed, 14 Jun 2023   Prob (F-statistic):           4.89e-06\n",
      "Time:                        06:18:57   Log-Likelihood:                -651.04\n",
      "No. Observations:                 961   AIC:                             1314.\n",
      "Df Residuals:                     955   BIC:                             1343.\n",
      "Df Model:                           5                                         \n",
      "Covariance Type:            nonrobust                                         \n",
      "==============================================================================\n",
      "                 coef    std err          t      P>|t|      [0.025      0.975]\n",
      "------------------------------------------------------------------------------\n",
      "const          0.5916      0.088      6.714      0.000       0.419       0.764\n",
      "age           -0.0004      0.000     -3.193      0.001      -0.001      -0.000\n",
      "black          0.1164      0.031      3.739      0.000       0.055       0.178\n",
      "married       -0.0707      0.036     -1.964      0.050      -0.141   -5.47e-05\n",
      "felon         -0.0093      0.034     -0.276      0.783      -0.076       0.057\n",
      "educ          -0.0105      0.006     -1.624      0.105      -0.023       0.002\n",
      "==============================================================================\n",
      "Omnibus:                     5180.337   Durbin-Watson:                   2.013\n",
      "Prob(Omnibus):                  0.000   Jarque-Bera (JB):              143.493\n",
      "Skew:                           0.480   Prob(JB):                     6.93e-32\n",
      "Kurtosis:                       1.369   Cond. No.                     2.13e+03\n",
      "==============================================================================\n",
      "\n",
      "Notes:\n",
      "[1] Standard Errors assume that the covariance matrix of the errors is correctly specified.\n",
      "[2] The condition number is large, 2.13e+03. This might indicate that there are\n",
      "strong multicollinearity or other numerical problems.\n"
     ]
    }
   ],
   "source": [
    "X = sm.add_constant(X)\n",
    "linear_model = sm.OLS(y, X).fit()\n",
    "print(linear_model.summary())"
   ]
  },
  {
   "attachments": {},
   "cell_type": "markdown",
   "metadata": {},
   "source": [
    "Построим логистическую регрессионную модель. \"Математическое\" отличие логит-модели от линейной модели, заключается в использовании функции сигмоиды: `p = sig(z)`, где z - линейная комбинация регрессеров + константа "
   ]
  },
  {
   "cell_type": "code",
   "execution_count": 12,
   "metadata": {},
   "outputs": [
    {
     "name": "stdout",
     "output_type": "stream",
     "text": [
      "Optimization terminated successfully.\n",
      "         Current function value: 0.645288\n",
      "         Iterations 5\n",
      "                           Logit Regression Results                           \n",
      "==============================================================================\n",
      "Dep. Variable:                  recid   No. Observations:                  961\n",
      "Model:                          Logit   Df Residuals:                      955\n",
      "Method:                           MLE   Df Model:                            5\n",
      "Date:                Wed, 14 Jun 2023   Pseudo R-squ.:                 0.02586\n",
      "Time:                        06:25:51   Log-Likelihood:                -620.12\n",
      "converged:                       True   LL-Null:                       -636.59\n",
      "Covariance Type:            nonrobust   LLR p-value:                 3.886e-06\n",
      "==============================================================================\n",
      "                 coef    std err          z      P>|z|      [0.025      0.975]\n",
      "------------------------------------------------------------------------------\n",
      "const          0.4707      0.397      1.185      0.236      -0.308       1.250\n",
      "age           -0.0020      0.001     -3.158      0.002      -0.003      -0.001\n",
      "black          0.5073      0.136      3.717      0.000       0.240       0.775\n",
      "married       -0.3115      0.163     -1.912      0.056      -0.631       0.008\n",
      "felon         -0.0387      0.148     -0.261      0.794      -0.329       0.252\n",
      "educ          -0.0472      0.029     -1.626      0.104      -0.104       0.010\n",
      "==============================================================================\n"
     ]
    }
   ],
   "source": [
    "logit_model = sm.Logit(y, X).fit()\n",
    "print(logit_model.summary())"
   ]
  },
  {
   "attachments": {},
   "cell_type": "markdown",
   "metadata": {},
   "source": [
    "Построим модель пробит-регрессии. "
   ]
  },
  {
   "cell_type": "code",
   "execution_count": 13,
   "metadata": {},
   "outputs": [
    {
     "name": "stdout",
     "output_type": "stream",
     "text": [
      "Optimization terminated successfully.\n",
      "         Current function value: 0.645328\n",
      "         Iterations 5\n",
      "                          Probit Regression Results                           \n",
      "==============================================================================\n",
      "Dep. Variable:                  recid   No. Observations:                  961\n",
      "Model:                         Probit   Df Residuals:                      955\n",
      "Method:                           MLE   Df Model:                            5\n",
      "Date:                Wed, 14 Jun 2023   Pseudo R-squ.:                 0.02580\n",
      "Time:                        06:29:09   Log-Likelihood:                -620.16\n",
      "converged:                       True   LL-Null:                       -636.59\n",
      "Covariance Type:            nonrobust   LLR p-value:                 4.026e-06\n",
      "==============================================================================\n",
      "                 coef    std err          z      P>|z|      [0.025      0.975]\n",
      "------------------------------------------------------------------------------\n",
      "const          0.2731      0.241      1.132      0.258      -0.200       0.746\n",
      "age           -0.0012      0.000     -3.194      0.001      -0.002      -0.000\n",
      "black          0.3125      0.084      3.726      0.000       0.148       0.477\n",
      "married       -0.1945      0.099     -1.968      0.049      -0.388      -0.001\n",
      "felon         -0.0268      0.091     -0.293      0.770      -0.206       0.152\n",
      "educ          -0.0285      0.018     -1.599      0.110      -0.063       0.006\n",
      "==============================================================================\n"
     ]
    }
   ],
   "source": [
    "probit_model = sm.Probit(y, X).fit()\n",
    "print(probit_model.summary())"
   ]
  },
  {
   "attachments": {},
   "cell_type": "markdown",
   "metadata": {},
   "source": [
    "`R-squared` больше у линейной модели, она лучше \"натренирована\"."
   ]
  },
  {
   "attachments": {},
   "cell_type": "markdown",
   "metadata": {},
   "source": [
    "2\\.  \n",
    "Словесное описание модели. Какие из переменных получились значимыми? Оцененная ковариационная матрица оценок коэффициентов?  "
   ]
  },
  {
   "attachments": {},
   "cell_type": "markdown",
   "metadata": {},
   "source": [
    "Выведем еще раз общую информацию о логит-модели."
   ]
  },
  {
   "cell_type": "code",
   "execution_count": 14,
   "metadata": {},
   "outputs": [
    {
     "name": "stdout",
     "output_type": "stream",
     "text": [
      "                           Logit Regression Results                           \n",
      "==============================================================================\n",
      "Dep. Variable:                  recid   No. Observations:                  961\n",
      "Model:                          Logit   Df Residuals:                      955\n",
      "Method:                           MLE   Df Model:                            5\n",
      "Date:                Wed, 14 Jun 2023   Pseudo R-squ.:                 0.02586\n",
      "Time:                        06:38:01   Log-Likelihood:                -620.12\n",
      "converged:                       True   LL-Null:                       -636.59\n",
      "Covariance Type:            nonrobust   LLR p-value:                 3.886e-06\n",
      "==============================================================================\n",
      "                 coef    std err          z      P>|z|      [0.025      0.975]\n",
      "------------------------------------------------------------------------------\n",
      "const          0.4707      0.397      1.185      0.236      -0.308       1.250\n",
      "age           -0.0020      0.001     -3.158      0.002      -0.003      -0.001\n",
      "black          0.5073      0.136      3.717      0.000       0.240       0.775\n",
      "married       -0.3115      0.163     -1.912      0.056      -0.631       0.008\n",
      "felon         -0.0387      0.148     -0.261      0.794      -0.329       0.252\n",
      "educ          -0.0472      0.029     -1.626      0.104      -0.104       0.010\n",
      "==============================================================================\n"
     ]
    }
   ],
   "source": [
    "print(logit_model.summary())"
   ]
  },
  {
   "attachments": {},
   "cell_type": "markdown",
   "metadata": {},
   "source": [
    "Значимые переменные: `age`, `black`. \n",
    "- Можно посмотреть на `p-value`: если `p-value` < порогового значения (как правило 0.05) -> регрессор значим;\n",
    "- Можно посмотреть на доверительный интервал: если в доверительный интервал не входит 0 -> регрессор значим. "
   ]
  },
  {
   "attachments": {},
   "cell_type": "markdown",
   "metadata": {},
   "source": [
    "Оцененная ковариционная матрица оценок коэффициентов:"
   ]
  },
  {
   "cell_type": "code",
   "execution_count": 16,
   "metadata": {},
   "outputs": [
    {
     "data": {
      "text/html": [
       "<div>\n",
       "<style scoped>\n",
       "    .dataframe tbody tr th:only-of-type {\n",
       "        vertical-align: middle;\n",
       "    }\n",
       "\n",
       "    .dataframe tbody tr th {\n",
       "        vertical-align: top;\n",
       "    }\n",
       "\n",
       "    .dataframe thead th {\n",
       "        text-align: right;\n",
       "    }\n",
       "</style>\n",
       "<table border=\"1\" class=\"dataframe\">\n",
       "  <thead>\n",
       "    <tr style=\"text-align: right;\">\n",
       "      <th></th>\n",
       "      <th>const</th>\n",
       "      <th>age</th>\n",
       "      <th>black</th>\n",
       "      <th>married</th>\n",
       "      <th>felon</th>\n",
       "      <th>educ</th>\n",
       "    </tr>\n",
       "  </thead>\n",
       "  <tbody>\n",
       "    <tr>\n",
       "      <th>const</th>\n",
       "      <td>0.157894</td>\n",
       "      <td>-1.696122e-04</td>\n",
       "      <td>-5.116520e-03</td>\n",
       "      <td>0.000660</td>\n",
       "      <td>-0.005954</td>\n",
       "      <td>-0.009444</td>\n",
       "    </tr>\n",
       "    <tr>\n",
       "      <th>age</th>\n",
       "      <td>-0.000170</td>\n",
       "      <td>3.822338e-07</td>\n",
       "      <td>6.045136e-07</td>\n",
       "      <td>-0.000020</td>\n",
       "      <td>0.000002</td>\n",
       "      <td>0.000004</td>\n",
       "    </tr>\n",
       "    <tr>\n",
       "      <th>black</th>\n",
       "      <td>-0.005117</td>\n",
       "      <td>6.045136e-07</td>\n",
       "      <td>1.863002e-02</td>\n",
       "      <td>0.000230</td>\n",
       "      <td>-0.000706</td>\n",
       "      <td>-0.000442</td>\n",
       "    </tr>\n",
       "    <tr>\n",
       "      <th>married</th>\n",
       "      <td>0.000660</td>\n",
       "      <td>-2.036770e-05</td>\n",
       "      <td>2.299291e-04</td>\n",
       "      <td>0.026551</td>\n",
       "      <td>-0.001023</td>\n",
       "      <td>0.000018</td>\n",
       "    </tr>\n",
       "    <tr>\n",
       "      <th>felon</th>\n",
       "      <td>-0.005954</td>\n",
       "      <td>1.861207e-06</td>\n",
       "      <td>-7.063036e-04</td>\n",
       "      <td>-0.001023</td>\n",
       "      <td>0.022008</td>\n",
       "      <td>-0.000066</td>\n",
       "    </tr>\n",
       "    <tr>\n",
       "      <th>educ</th>\n",
       "      <td>-0.009444</td>\n",
       "      <td>4.472315e-06</td>\n",
       "      <td>-4.423078e-04</td>\n",
       "      <td>0.000018</td>\n",
       "      <td>-0.000066</td>\n",
       "      <td>0.000844</td>\n",
       "    </tr>\n",
       "  </tbody>\n",
       "</table>\n",
       "</div>"
      ],
      "text/plain": [
       "            const           age         black   married     felon      educ\n",
       "const    0.157894 -1.696122e-04 -5.116520e-03  0.000660 -0.005954 -0.009444\n",
       "age     -0.000170  3.822338e-07  6.045136e-07 -0.000020  0.000002  0.000004\n",
       "black   -0.005117  6.045136e-07  1.863002e-02  0.000230 -0.000706 -0.000442\n",
       "married  0.000660 -2.036770e-05  2.299291e-04  0.026551 -0.001023  0.000018\n",
       "felon   -0.005954  1.861207e-06 -7.063036e-04 -0.001023  0.022008 -0.000066\n",
       "educ    -0.009444  4.472315e-06 -4.423078e-04  0.000018 -0.000066  0.000844"
      ]
     },
     "execution_count": 16,
     "metadata": {},
     "output_type": "execute_result"
    }
   ],
   "source": [
    "logit_model.cov_params()"
   ]
  },
  {
   "attachments": {},
   "cell_type": "markdown",
   "metadata": {},
   "source": [
    "3\\.  \n",
    "По каждой модели рассчитайте оцените вероятность повторного преступления для всех\n",
    "наблюдений, включая 50 последних (где неизвестно значение recid). Есть ли заметные\n",
    "различия между прогнозируемыми вероятностями? В каких наблюдениях возникают\n",
    "наибольшие расхождения? Кому из ещё не совершивших рецидива бывших\n",
    "заключенных требуется уделить особое внимание?"
   ]
  },
  {
   "cell_type": "code",
   "execution_count": 19,
   "metadata": {},
   "outputs": [],
   "source": [
    "X_all = df[['age', 'black', 'married', 'felon', 'educ']]\n",
    "X_all = sm.add_constant(X_all)"
   ]
  },
  {
   "attachments": {},
   "cell_type": "markdown",
   "metadata": {},
   "source": [
    "Вероятность преступлений для линейной модели:"
   ]
  },
  {
   "cell_type": "code",
   "execution_count": 20,
   "metadata": {},
   "outputs": [
    {
     "data": {
      "text/plain": [
       "0       0.262240\n",
       "1       0.443990\n",
       "2       0.381669\n",
       "3       0.394762\n",
       "4       0.465905\n",
       "          ...   \n",
       "1006    0.389747\n",
       "1007    0.375437\n",
       "1008    0.366695\n",
       "1009    0.300739\n",
       "1010    0.401877\n",
       "Length: 1011, dtype: float64"
      ]
     },
     "execution_count": 20,
     "metadata": {},
     "output_type": "execute_result"
    }
   ],
   "source": [
    "linear_all_predict = linear_model.predict(X_all)\n",
    "linear_all_predict"
   ]
  },
  {
   "attachments": {},
   "cell_type": "markdown",
   "metadata": {},
   "source": [
    "Вероятность преступления для пробит-модели:"
   ]
  },
  {
   "cell_type": "code",
   "execution_count": 21,
   "metadata": {},
   "outputs": [
    {
     "data": {
      "text/plain": [
       "0       0.262103\n",
       "1       0.443409\n",
       "2       0.379739\n",
       "3       0.394012\n",
       "4       0.467929\n",
       "          ...   \n",
       "1006    0.388906\n",
       "1007    0.373465\n",
       "1008    0.365039\n",
       "1009    0.298510\n",
       "1010    0.401396\n",
       "Length: 1011, dtype: float64"
      ]
     },
     "execution_count": 21,
     "metadata": {},
     "output_type": "execute_result"
    }
   ],
   "source": [
    "probit_all_predict = probit_model.predict(X_all)\n",
    "probit_all_predict"
   ]
  },
  {
   "attachments": {},
   "cell_type": "markdown",
   "metadata": {},
   "source": [
    "Вероятность преступления для логит-модели:"
   ]
  },
  {
   "cell_type": "code",
   "execution_count": 22,
   "metadata": {},
   "outputs": [
    {
     "data": {
      "text/plain": [
       "0       0.262578\n",
       "1       0.443497\n",
       "2       0.380564\n",
       "3       0.393921\n",
       "4       0.467625\n",
       "          ...   \n",
       "1006    0.388716\n",
       "1007    0.372691\n",
       "1008    0.364254\n",
       "1009    0.296603\n",
       "1010    0.401493\n",
       "Length: 1011, dtype: float64"
      ]
     },
     "execution_count": 22,
     "metadata": {},
     "output_type": "execute_result"
    }
   ],
   "source": [
    "logit_all_predict = logit_model.predict(X_all)\n",
    "logit_all_predict"
   ]
  },
  {
   "attachments": {},
   "cell_type": "markdown",
   "metadata": {},
   "source": [
    "Значительных различий не замечено. "
   ]
  },
  {
   "attachments": {},
   "cell_type": "markdown",
   "metadata": {},
   "source": [
    "Найдем топ-5 наибольших расхождений в наблюдениях.  \n",
    "Для этого, для каждой пары резльутатов найдем их дельту и отберем топ-5 наблюдений с наибольшой дельтой."
   ]
  },
  {
   "cell_type": "code",
   "execution_count": 32,
   "metadata": {},
   "outputs": [],
   "source": [
    "def get_top10_discrepancies(model1, model2):\n",
    "    delta = np.abs(model1 - model2)\n",
    "    delta = np.c_[delta, np.arange(len(delta))]\n",
    "    delta = delta[delta[:, 0].argsort()[::-1]]\n",
    "    return [(index, d) for index, d in delta[:5]]"
   ]
  },
  {
   "cell_type": "code",
   "execution_count": 36,
   "metadata": {},
   "outputs": [
    {
     "name": "stdout",
     "output_type": "stream",
     "text": [
      "[(0.04126180829893927, 730.0), (0.03981784185033854, 87.0), (0.03444953692080771, 863.0), (0.03371322818399318, 758.0), (0.02999813668059806, 904.0)]\n",
      "[(0.0469980183292695, 730.0), (0.04529416553145932, 87.0), (0.03939547443633809, 863.0), (0.03852785269955657, 758.0), (0.033701899772878186, 904.0)]\n",
      "[(0.00573621003033023, 730.0), (0.005476323681120776, 87.0), (0.005096047360809541, 366.0), (0.00494593751553038, 863.0), (0.004814624515563387, 758.0)]\n"
     ]
    }
   ],
   "source": [
    "print(get_top10_discrepancies(linear_all_predict, probit_all_predict))\n",
    "print(get_top10_discrepancies(linear_all_predict, logit_all_predict))\n",
    "print(get_top10_discrepancies(probit_all_predict, logit_all_predict))"
   ]
  },
  {
   "attachments": {},
   "cell_type": "markdown",
   "metadata": {},
   "source": [
    "Получаем, что наибольшие расхождения находятся в наблюдениях с индексами 730, 87, 863, 366, 758, 904. "
   ]
  },
  {
   "attachments": {},
   "cell_type": "markdown",
   "metadata": {},
   "source": [
    "Еще не совершили рецидив преступники, у которых `recid = 0` или 50 последних преступников (у которых пока нет `recid`). С помощью линейной модели найдем всех таких преступников и оценим их вероятность совершения рецидива. Будем считать, что вероятность рецидива высока (а, соответсвенно, ожидается, что он будет совершен), если вероятность будет > 0.5."
   ]
  },
  {
   "cell_type": "code",
   "execution_count": 50,
   "metadata": {},
   "outputs": [
    {
     "name": "stdout",
     "output_type": "stream",
     "text": [
      "Потенциальные рецидивисты:\n",
      "Индекс преступника: 617.0 | Вероятность рецидива: 0.538056492922749\n",
      "Индекс преступника: 167.0 | Вероятность рецидива: 0.5351157651227392\n",
      "Индекс преступника: 75.0 | Вероятность рецидива: 0.5254800376121151\n",
      "Индекс преступника: 59.0 | Вероятность рецидива: 0.5216724380369796\n",
      "Индекс преступника: 95.0 | Вероятность рецидива: 0.521645774204714\n",
      "Индекс преступника: 633.0 | Вероятность рецидива: 0.5136209439243383\n",
      "Индекс преступника: 185.0 | Вероятность рецидива: 0.5106802161243285\n",
      "Индекс преступника: 429.0 | Вероятность рецидива: 0.5103562946406358\n",
      "Индекс преступника: 478.0 | Вероятность рецидива: 0.5099361906692058\n",
      "Индекс преступника: 585.0 | Вероятность рецидива: 0.5095427505300415\n",
      "Индекс преступника: 284.0 | Вероятность рецидива: 0.5094199042100385\n",
      "Индекс преступника: 36.0 | Вероятность рецидива: 0.5090959827263458\n",
      "Индекс преступника: 292.0 | Вероятность рецидива: 0.5090959827263458\n",
      "Индекс преступника: 106.0 | Вероятность рецидива: 0.5086758787549158\n",
      "Индекс преступника: 517.0 | Вероятность рецидива: 0.5085425595935874\n",
      "Индекс преступника: 435.0 | Вероятность рецидива: 0.5080691279576262\n",
      "Индекс преступника: 494.0 | Вероятность рецидива: 0.5077290154829932\n",
      "Индекс преступника: 329.0 | Вероятность рецидива: 0.5074155668406258\n",
      "Индекс преступника: 61.0 | Вероятность рецидива: 0.5074155668406258\n",
      "Индекс преступника: 335.0 | Вероятность рецидива: 0.5065486950655002\n",
      "Индекс преступника: 311.0 | Вероятность рецидива: 0.506155254926336\n",
      "Индекс преступника: 69.0 | Вероятность рецидива: 0.5061285910940703\n",
      "Индекс преступника: 491.0 | Вероятность рецидива: 0.5057618147871716\n",
      "Индекс преступника: 290.0 | Вероятность рецидива: 0.5057618147871716\n",
      "Индекс преступника: 337.0 | Вероятность рецидива: 0.5039852164137144\n",
      "Индекс преступника: 483.0 | Вероятность рецидива: 0.5036612949300217\n",
      "Индекс преступника: 389.0 | Вероятность рецидива: 0.5024276468479975\n",
      "Индекс преступника: 618.0 | Вероятность рецидива: 0.5015074474083404\n",
      "Индекс преступника: 159.0 | Вероятность рецидива: 0.5010178247814387\n",
      "Индекс преступника: 213.0 | Вероятность рецидива: 0.5007472309622775\n",
      "Индекс преступника: 575.0 | Вероятность рецидива: 0.5007205671300118\n",
      "Индекс преступника: 298.0 | Вероятность рецидива: 0.5003271269908475\n",
      "Индекс преступника: 512.0 | Вероятность рецидива: 0.5003004631585818\n"
     ]
    }
   ],
   "source": [
    "suspects = X_all[df[\"recid\"] != 1]\n",
    "suspects_predict = linear_model.predict(suspects)\n",
    "suspects_predict = np.c_[suspects_predict, np.arange(len(suspects_predict))]\n",
    "suspects_predict = suspects_predict[suspects_predict[:, 0].argsort()[::-1]]\n",
    "suspects_predict = suspects_predict[suspects_predict[:, 0] > 0.5]\n",
    "print(\"Потенциальные рецидивисты:\")\n",
    "for p, index in suspects_predict:\n",
    "    print(f\"Индекс преступника: {index} | Вероятность рецидива: {p}\")"
   ]
  },
  {
   "attachments": {},
   "cell_type": "markdown",
   "metadata": {},
   "source": [
    "4\\.  \n",
    "На примере logit модели проверьте значимость модели в целом тестом отношения\n",
    "правдоподобия. Рассчитайте p-значение."
   ]
  },
  {
   "cell_type": "code",
   "execution_count": 54,
   "metadata": {},
   "outputs": [
    {
     "name": "stdout",
     "output_type": "stream",
     "text": [
      "p-value: 3.885730432085005e-06\n"
     ]
    }
   ],
   "source": [
    "print(f\"p-value: {logit_model.llr_pvalue}\")"
   ]
  },
  {
   "attachments": {},
   "cell_type": "markdown",
   "metadata": {},
   "source": [
    "p-value < 0.05 -> Модель в целом значима"
   ]
  },
  {
   "attachments": {},
   "cell_type": "markdown",
   "metadata": {},
   "source": [
    "5\\.  \n",
    "Этот пункт сделайте для probit модели. Рассмотрим прогнозное правило типа est_low_i = 1,\n",
    "если est_P(low_i = 1) > c, иначе est_low_i = 0, где c - некое пороговое значение для\n",
    "моделируемой вероятности. Чувствительностью называется доля верных прогнозов\n",
    "среди всех наблюдений, где low_i = 1 (способность модели правильно предсказывать\n",
    "«единички»).  \n",
    "Специфичностью называется доля верных прогнозов среди всех наблюдений, где\n",
    "= 0 (способность модели правильно предсказывать «нули»).  \n",
    "Рассчитайте чувствительность и специфичность для разных пороговых значений c от 0 до 1,\n",
    "постройте график зависимости чувствительности и специфичности от c.\n",
    "Требуется, чтобы прогнозная модель имела чувствительность не ниже 70%. Каким\n",
    "должен быть порог c? Какой специфичности можно добиться в этом случае?"
   ]
  },
  {
   "attachments": {},
   "cell_type": "markdown",
   "metadata": {},
   "source": [
    "Для нахождения чувствительности и специфичности будем пользоваться матрицей ошибок.  \n",
    "Чувтсвительность = `TP / (TP + FN)`, где TP - число истино-положительных срабатываний, FN - число ложно-отрицательных срабатываний.  \n",
    "Специфичность = `TN / (TN + FP)`, где TN - число истино-отрицательных срабатываний, FP - число ложно-положительных срабатываний.  "
   ]
  },
  {
   "cell_type": "code",
   "execution_count": 80,
   "metadata": {},
   "outputs": [],
   "source": [
    "predict_true = df[\"recid\"].head(X_all.shape[0] - 50)\n",
    "probit_predict = probit_model.predict(X)"
   ]
  },
  {
   "cell_type": "code",
   "execution_count": 77,
   "metadata": {},
   "outputs": [],
   "source": [
    "def specificity(c: float) -> float:\n",
    "    class_predict = np.zeros(probit_predict.shape)\n",
    "    class_predict[probit_predict > c] = 1\n",
    "    cm = confusion_matrix(predict_true, class_predict)\n",
    "    return cm[1, 1] / (cm[1, 0] + cm[1, 1])"
   ]
  },
  {
   "cell_type": "code",
   "execution_count": 78,
   "metadata": {},
   "outputs": [],
   "source": [
    "def sensitivity(c: float) -> float:\n",
    "    class_predict = np.zeros(probit_predict.shape)\n",
    "    class_predict[probit_predict > c] = 1\n",
    "    cm = confusion_matrix(predict_true, class_predict)\n",
    "    return cm[0, 0] / (cm[0, 0] + cm[0, 1])"
   ]
  },
  {
   "attachments": {},
   "cell_type": "markdown",
   "metadata": {},
   "source": [
    "Значения чувствительности и специфичности для разных `c`:"
   ]
  },
  {
   "cell_type": "code",
   "execution_count": 87,
   "metadata": {},
   "outputs": [
    {
     "name": "stdout",
     "output_type": "stream",
     "text": [
      "c: 0 | чувствительность: 0.0 | специфичность: 1.0\n",
      "c: 0.1 | чувствительность: 0.0 | специфичность: 1.0\n",
      "c: 0.2 | чувствительность: 0.025041736227045076 | специфичность: 0.9861878453038674\n",
      "c: 0.30000000000000004 | чувствительность: 0.25542570951585974 | специфичность: 0.8591160220994475\n",
      "c: 0.4 | чувствительность: 0.676126878130217 | специфичность: 0.47790055248618785\n",
      "c: 0.5 | чувствительность: 0.9315525876460768 | специфичность: 0.12154696132596685\n",
      "c: 0.6 | чувствительность: 1.0 | специфичность: 0.0\n",
      "c: 0.7 | чувствительность: 1.0 | специфичность: 0.0\n",
      "c: 0.7999999999999999 | чувствительность: 1.0 | специфичность: 0.0\n",
      "c: 0.8999999999999999 | чувствительность: 1.0 | специфичность: 0.0\n",
      "c: 0.9999999999999999 | чувствительность: 1.0 | специфичность: 0.0\n"
     ]
    }
   ],
   "source": [
    "c = 0\n",
    "while c <= 1.0:\n",
    "    print(f\"c: {c} | чувствительность: {sensitivity(c)} | специфичность: {specificity(c)}\")\n",
    "    c += 0.1"
   ]
  },
  {
   "attachments": {},
   "cell_type": "markdown",
   "metadata": {},
   "source": [
    "Построим график зависимости чувствительности и специфичности от `c`. "
   ]
  },
  {
   "cell_type": "code",
   "execution_count": 90,
   "metadata": {},
   "outputs": [],
   "source": [
    "C = [c for c in np.linspace(0, 1, 1000)]\n",
    "sens = [sensitivity(c) for c in C]\n",
    "spec = [specificity(c) for c in C]"
   ]
  },
  {
   "cell_type": "code",
   "execution_count": 92,
   "metadata": {},
   "outputs": [
    {
     "data": {
      "image/png": "[encoded data removed]",
      "text/plain": [
       "<Figure size 640x480 with 1 Axes>"
      ]
     },
     "metadata": {},
     "output_type": "display_data"
    }
   ],
   "source": [
    "plt.plot(C, sens, label=\"Чувствительность\")\n",
    "plt.plot(C, spec, label=\"Специфичность\")\n",
    "\n",
    "plt.grid()\n",
    "plt.legend()\n",
    "plt.title(\"Зависимость чувствительности и специфичности от c\")\n",
    "plt.xlabel(\"c\")\n",
    "plt.ylabel(\"значение\")\n",
    "\n",
    "plt.show()"
   ]
  },
  {
   "attachments": {},
   "cell_type": "markdown",
   "metadata": {},
   "source": [
    "По графику видно, что для чувствительности в 70% нужно иметь с равным ~ 0.41.\n",
    "В этом случае можно будет добится специфичности ~ 43%"
   ]
  }
 ],
 "metadata": {
  "kernelspec": {
   "display_name": "Python 3",
   "language": "python",
   "name": "python3"
  },
  "language_info": {
   "codemirror_mode": {
    "name": "ipython",
    "version": 3
   },
   "file_extension": ".py",
   "mimetype": "text/x-python",
   "name": "python",
   "nbconvert_exporter": "python",
   "pygments_lexer": "ipython3",
   "version": "3.10.6"
  },
  "orig_nbformat": 4
 },
 "nbformat": 4,
 "nbformat_minor": 2
}
